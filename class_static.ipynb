{
 "cells": [
  {
   "cell_type": "markdown",
   "metadata": {},
   "source": [
    "#### 在 Python 中一直以来都以为函数（function）和方法（method）是一个东西，但后来发现两者是不一样的，那么两者之间有什么区别呢？"
   ]
  },
  {
   "cell_type": "markdown",
   "metadata": {},
   "source": [
    "Python的静态方法确实用处不大，但还是必要的。为什么呢？我觉得主要有两个理由：\n",
    "### 1\n",
    "概念和逻辑上更清楚Python的静态方法（Static Method）实际上是一个普通的函数。如果不把静态方法放在任何一个类里面，而是放在全局，能达到的效果是完全一样的。那么我们之所以把它放进某个类里面，是因为觉得这个函数只有这个类及其对象需要用到，别人用不到。所以放进类里就更舒服一些，代码的模块化和可读性更强。然而既然放进类里面，用类方法（Class Method）实现有何不可呢？如果使用类方法，那它就仿佛可以直接使用类属性数据，这样从封装和概念上就不清晰了。所以单独定义一种静态方法，就保证了既可以根据逻辑关系把普通函数放进类里面，同时又保证它不会与类的各种数据、概念混淆，仍保持良好的独立性，也让类的封装性不被破坏。\n",
    "\n",
    "我们来举个例子：\n"
   ]
  },
  {
   "cell_type": "code",
   "execution_count": 5,
   "metadata": {},
   "outputs": [
    {
     "name": "stdout",
     "output_type": "stream",
     "text": [
      "Equal\n"
     ]
    }
   ],
   "source": [
    "class Dates:\n",
    "    def __init__(self, date):\n",
    "        self.date = date\n",
    "        \n",
    "    def getDate(self):\n",
    "        return self.date\n",
    "\n",
    "    @staticmethod\n",
    "    def toDashDate(date):\n",
    "        return date.replace(\"/\", \"-\")\n",
    "\n",
    "date = Dates(\"15-12-2016\")\n",
    "dateFromDB = \"15/12/2016\"\n",
    "dateWithDash = Dates.toDashDate(dateFromDB)\n",
    "\n",
    "if(date.getDate() == dateWithDash):\n",
    "    print(\"Equal\")\n",
    "else:\n",
    "    print(\"Unequal\")\n"
   ]
  },
  {
   "cell_type": "markdown",
   "metadata": {},
   "source": [
    "在这个例子中，我们要从数据库读取日期数据（dateFromDB）。假设有些数据库返回的日期格式是“dd/mm/yyyy”，而我们程序中却是严格按照“dd-mm-yyyy”的格式来处理的，因此需要一个转换格式的函数。我们不认为这个函数在别的地方（比如处理薪酬奖金的部分）用得着，所以放进calss Dates里面是有意义的。\n",
    "\n",
    "但是这种转换与我们真正要处理数据的事情又没有关系，所以把转换函数设为静态方法就比设为类方法显得更合情合理。\n",
    "\n",
    "### 2\n",
    "避免在子类中被意外重写我们知道Python类里面的方法，是可以在子类中被重写（Override）的。像这种本来就可以放在类外面的函数，显然不希望被重写。使用静态方法，就可以把这种函数因为逻辑关系放进类里，同时又保证它不会被子类意外重写。大概就是这样一些原因。不管怎么说，静态方法也不是很有用。\n",
    "\n",
    "Python总体风格上追求简洁而自然，在逻辑清晰、代码易读的前提下，提供一些稍微有些冗余的功能，也从某种程度上照顾一下熟悉C++/JAVA等语言的一些人的习惯，看每个人的喜好选择吧。\n",
    "\n"
   ]
  },
  {
   "cell_type": "code",
   "execution_count": 6,
   "metadata": {},
   "outputs": [
    {
     "name": "stdout",
     "output_type": "stream",
     "text": [
      "<function fun at 0x10dec6320>\n"
     ]
    }
   ],
   "source": [
    "def fun():\n",
    "    pass\n",
    " \n",
    "print(fun)"
   ]
  },
  {
   "cell_type": "code",
   "execution_count": 7,
   "metadata": {},
   "outputs": [
    {
     "name": "stdout",
     "output_type": "stream",
     "text": [
      "<__main__.Demo object at 0x11209fa30>\n",
      "<bound method Demo.fun1 of <__main__.Demo object at 0x11209fa30>>\n",
      "<bound method Demo.fun2 of <class '__main__.Demo'>>\n",
      "<function Demo.fun3 at 0x10dec5f30>\n"
     ]
    }
   ],
   "source": [
    "class Demo():\n",
    "    \n",
    "    def fun1(self):\n",
    "        pass\n",
    "    \n",
    "    @classmethod\n",
    "    def fun2(cls):\n",
    "        pass\n",
    "    \n",
    "    @staticmethod\n",
    "    def fun3(self):\n",
    "        pass\n",
    " \n",
    " \n",
    "demo = Demo()\n",
    "print(demo)\n",
    "print(demo.fun1)\n",
    "print(demo.fun2)\n",
    "print(demo.fun3)"
   ]
  },
  {
   "cell_type": "markdown",
   "metadata": {},
   "source": [
    "#### 可以看到\n",
    "* 实例方法和类方法都被称为bound method\n",
    "* 静态方法被称为function，和在类外定义的函数没有区别"
   ]
  },
  {
   "cell_type": "code",
   "execution_count": null,
   "metadata": {},
   "outputs": [],
   "source": []
  },
  {
   "cell_type": "code",
   "execution_count": 10,
   "metadata": {},
   "outputs": [
    {
     "name": "stdout",
     "output_type": "stream",
     "text": [
      "cpu\n",
      "内存\n",
      "磁盘\n",
      "None\n",
      "Intel\n"
     ]
    },
    {
     "data": {
      "text/plain": [
       "'\\n类方法中的cls形参，在实际执行过程中，Python会自动传递类类型给类方法，将方法与类类型进行绑定。\\n在静态方法中显示地传递类名做形参，也能实现同样的效果。\\n'"
      ]
     },
     "execution_count": 10,
     "metadata": {},
     "output_type": "execute_result"
    }
   ],
   "source": [
    "'''\n",
    "学到了：\n",
    "1.类属性以及类属性的调用（通过cls）\n",
    "2._竟然也可以打印\n",
    "'''\n",
    "\n",
    "# 定义一个Computer类\n",
    "class Computer:\n",
    "    # 类属性modules\n",
    "    __modules = {\"cpu\": \"Intel\", \"内存\": \"Intel\", \"磁盘\": \"Dell\"} \n",
    " \n",
    "    # 类方法output_modules\n",
    "    @classmethod\n",
    "    def output_modules(cls):\n",
    "        for _ in cls.__modules:\n",
    "            print(_)\n",
    " \n",
    "    # 在静态方法search_module中定义形参cls，表示类类型\n",
    "    # 调用时必须显式地传递类名，才能实现类方法一样的效果\n",
    "    @staticmethod\n",
    "    def search_module(cls, module):\n",
    "        value = None if module not in cls.__modules else cls.__modules[module]\n",
    "        return value \n",
    " \n",
    "# 调用类的类法output_modules，无需显式地传递类名做实参\n",
    "print(Computer.output_modules())\n",
    "\n",
    "# 调用类的静态方法search_module，必须显式地传递类名做实参\n",
    "print(Computer.search_module(Computer, \"内存\"))\n",
    "\n",
    "\"\"\"\n",
    "类方法中的cls形参，在实际执行过程中，Python会自动传递类类型给类方法，将方法与类类型进行绑定。\n",
    "在静态方法中显示地传递类名做形参，也能实现同样的效果。\n",
    "\"\"\""
   ]
  },
  {
   "cell_type": "markdown",
   "metadata": {},
   "source": []
  }
 ],
 "metadata": {
  "kernelspec": {
   "display_name": "Python 3.10.5 64-bit",
   "language": "python",
   "name": "python3"
  },
  "language_info": {
   "codemirror_mode": {
    "name": "ipython",
    "version": 3
   },
   "file_extension": ".py",
   "mimetype": "text/x-python",
   "name": "python",
   "nbconvert_exporter": "python",
   "pygments_lexer": "ipython3",
   "version": "3.10.5"
  },
  "orig_nbformat": 4,
  "vscode": {
   "interpreter": {
    "hash": "aee8b7b246df8f9039afb4144a1f6fd8d2ca17a180786b69acc140d282b71a49"
   }
  }
 },
 "nbformat": 4,
 "nbformat_minor": 2
}
