{
 "cells": [
  {
   "cell_type": "code",
   "execution_count": 5,
   "metadata": {},
   "outputs": [
    {
     "name": "stdout",
     "output_type": "stream",
     "text": [
      "bar is running\n",
      "hello world\n",
      "bar if over\n"
     ]
    }
   ],
   "source": [
    "def logging(func):\n",
    "    print(\"{} is running\".format(func.__name__))\n",
    "    func()\n",
    "    print(\"{} if over\".format(func.__name__))\n",
    "\n",
    "def bar(): \n",
    "    print('hello world')\n",
    "\n",
    "# 装饰器的本质是在不改变原有函数的前提下，对原有函数新增功能。\n",
    "# 这里已经给函数bar新增了两个print功能，但是调用方式改变了。\n",
    "# 以前直接执行bar()\n",
    "# 现在执行logging(bar)\n",
    "# 很不优雅\n",
    "logging(bar)"
   ]
  },
  {
   "cell_type": "code",
   "execution_count": 6,
   "metadata": {},
   "outputs": [
    {
     "name": "stdout",
     "output_type": "stream",
     "text": [
      "bar is running\n",
      "hello world\n",
      "bar if over\n"
     ]
    }
   ],
   "source": [
    "def logging(func):\n",
    "    def wrapper():\n",
    "        print(\"{} is running\".format(func.__name__))\n",
    "        func()\n",
    "        print(\"{} if over\".format(func.__name__))\n",
    "    return wrapper\n",
    "\n",
    "def bar():\n",
    "    print('hello world')\n",
    "\n",
    "# 这里实现了装饰器的功能，且调用方式不变\n",
    "bar = logging(bar)\n",
    "bar()"
   ]
  },
  {
   "cell_type": "code",
   "execution_count": 7,
   "metadata": {},
   "outputs": [
    {
     "name": "stdout",
     "output_type": "stream",
     "text": [
      "装饰器执行了\n",
      "bar is running\n",
      "hello world\n",
      "bar if over\n"
     ]
    }
   ],
   "source": [
    "def logging(func):\n",
    "    print('装饰器执行了')\n",
    "    def wrapper():\n",
    "        print(\"{} is running\".format(func.__name__))\n",
    "        func()\n",
    "        print(\"{} if over\".format(func.__name__))\n",
    "    return wrapper\n",
    "\n",
    "# 语法糖，和上一个例子等价\n",
    "@logging\n",
    "def bar():\n",
    "    print('hello world')\n",
    "\n",
    "bar()"
   ]
  }
 ],
 "metadata": {
  "kernelspec": {
   "display_name": "Python 3.10.5 64-bit",
   "language": "python",
   "name": "python3"
  },
  "language_info": {
   "codemirror_mode": {
    "name": "ipython",
    "version": 3
   },
   "file_extension": ".py",
   "mimetype": "text/x-python",
   "name": "python",
   "nbconvert_exporter": "python",
   "pygments_lexer": "ipython3",
   "version": "3.10.5"
  },
  "orig_nbformat": 4,
  "vscode": {
   "interpreter": {
    "hash": "aee8b7b246df8f9039afb4144a1f6fd8d2ca17a180786b69acc140d282b71a49"
   }
  }
 },
 "nbformat": 4,
 "nbformat_minor": 2
}
