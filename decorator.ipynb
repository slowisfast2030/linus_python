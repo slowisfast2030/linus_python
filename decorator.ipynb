{
 "cells": [
  {
   "cell_type": "code",
   "execution_count": 2,
   "metadata": {},
   "outputs": [
    {
     "name": "stdout",
     "output_type": "stream",
     "text": [
      "bar is running\n",
      "hello world\n",
      "bar if over\n"
     ]
    }
   ],
   "source": [
    "def logging(func):\n",
    "    print(\"{} is running\".format(func.__name__))\n",
    "    func()\n",
    "    print(\"{} if over\".format(func.__name__))\n",
    "\n",
    "def bar(): \n",
    "    print('hello world')\n",
    "\n",
    "logging(bar)"
   ]
  },
  {
   "cell_type": "code",
   "execution_count": 3,
   "metadata": {},
   "outputs": [
    {
     "name": "stdout",
     "output_type": "stream",
     "text": [
      "bar is running\n",
      "hello world\n",
      "bar if over\n"
     ]
    }
   ],
   "source": [
    "def logging(func):\n",
    "    def wrapper():\n",
    "        print(\"{} is running\".format(func.__name__))\n",
    "        func()\n",
    "        print(\"{} if over\".format(func.__name__))\n",
    "    return wrapper\n",
    "\n",
    "def bar():\n",
    "    print('hello world')\n",
    "\n",
    "bar = logging(bar)\n",
    "bar()"
   ]
  },
  {
   "cell_type": "code",
   "execution_count": 4,
   "metadata": {},
   "outputs": [
    {
     "name": "stdout",
     "output_type": "stream",
     "text": [
      "装饰器执行了\n",
      "bar is running\n",
      "hello world\n",
      "bar if over\n"
     ]
    }
   ],
   "source": [
    "def logging(func):\n",
    "    print('装饰器执行了')\n",
    "    def wrapper():\n",
    "        print(\"{} is running\".format(func.__name__))\n",
    "        func()\n",
    "        print(\"{} if over\".format(func.__name__))\n",
    "    return wrapper\n",
    "\n",
    "@logging\n",
    "def bar():\n",
    "    print('hello world')\n",
    "\n",
    "bar()"
   ]
  }
 ],
 "metadata": {
  "kernelspec": {
   "display_name": "Python 3.10.5 64-bit",
   "language": "python",
   "name": "python3"
  },
  "language_info": {
   "codemirror_mode": {
    "name": "ipython",
    "version": 3
   },
   "file_extension": ".py",
   "mimetype": "text/x-python",
   "name": "python",
   "nbconvert_exporter": "python",
   "pygments_lexer": "ipython3",
   "version": "3.10.5"
  },
  "orig_nbformat": 4,
  "vscode": {
   "interpreter": {
    "hash": "aee8b7b246df8f9039afb4144a1f6fd8d2ca17a180786b69acc140d282b71a49"
   }
  }
 },
 "nbformat": 4,
 "nbformat_minor": 2
}
