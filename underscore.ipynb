{
 "cells": [
  {
   "cell_type": "markdown",
   "metadata": {},
   "source": [
    "在Python中，有以下几种方式来定义变量：\n",
    "* xx：公有变量\n",
    "* _xx：前置单下划线，私有化属性或方法。  \n",
    "一般来讲，变量名_xx被看作是“私有 的”，在模块或类外不可以使用。  \n",
    "当变量是私有的时候，用_xx 来表示变量是很好的习惯。  \n",
    "类对象和子类可以访问,这并不能完全做到真正的私有，只是约定俗成的而已，这样写表示不希望这个变量在外部被直接调用\n",
    "* __xx：前置双下划线，私有化属性或方法，无法在外部直接访问（名字重整所以访问不到,只能是允许这个类本身进行访问了。连子类也不可以）\n",
    "* \\__xx\\___：前后双下划线，系统定义名字（这就是在python中强大的魔法方法），因为变量名__xxx__对Python 来说有特殊含义，对于普通的变量应当避免这种命名风格。\n",
    "* xx_：后置单下划线，用于避免与Python关键词的冲突"
   ]
  },
  {
   "cell_type": "code",
   "execution_count": 12,
   "metadata": {},
   "outputs": [
    {
     "name": "stdout",
     "output_type": "stream",
     "text": [
      "t.x:10\n",
      "t._x:20\n",
      "t.__x:30\n",
      "t.__x__:40\n",
      "t.x_:50\n"
     ]
    }
   ],
   "source": [
    "class test(object):\n",
    "    def __init__(self):\n",
    "        self.x = 10\n",
    "        self._x = 20\n",
    "        self.__x = 30 # 最特殊的一个，名字重命名了\n",
    "        self.__x__ = 40\n",
    "        self.x_ = 50\n",
    "\n",
    "t = test()\n",
    "print(\"{}:{}\".format('t.x', t.x)) \n",
    "print(\"{}:{}\".format('t._x', t._x)) \n",
    "print(\"{}:{}\".format('t.__x', t._test__x)) # __x变量重命名了\n",
    "print(\"{}:{}\".format('t.__x__', t.__x__))\n",
    "print(\"{}:{}\".format('t.x_', t.x_))  \n"
   ]
  },
  {
   "cell_type": "code",
   "execution_count": 13,
   "metadata": {},
   "outputs": [
    {
     "ename": "AttributeError",
     "evalue": "'test' object has no attribute '__x'",
     "output_type": "error",
     "traceback": [
      "\u001b[0;31m---------------------------------------------------------------------------\u001b[0m",
      "\u001b[0;31mAttributeError\u001b[0m                            Traceback (most recent call last)",
      "\u001b[1;32m/Users/linus/Desktop/linus_python/underscore.ipynb Cell 3\u001b[0m in \u001b[0;36m<cell line: 1>\u001b[0;34m()\u001b[0m\n\u001b[0;32m----> <a href='vscode-notebook-cell:/Users/linus/Desktop/linus_python/underscore.ipynb#W5sZmlsZQ%3D%3D?line=0'>1</a>\u001b[0m t\u001b[39m.\u001b[39;49m__x\n",
      "\u001b[0;31mAttributeError\u001b[0m: 'test' object has no attribute '__x'"
     ]
    }
   ],
   "source": [
    "t.__x"
   ]
  },
  {
   "cell_type": "code",
   "execution_count": 14,
   "metadata": {},
   "outputs": [
    {
     "data": {
      "text/plain": [
       "['__class__',\n",
       " '__delattr__',\n",
       " '__dict__',\n",
       " '__dir__',\n",
       " '__doc__',\n",
       " '__eq__',\n",
       " '__format__',\n",
       " '__ge__',\n",
       " '__getattribute__',\n",
       " '__gt__',\n",
       " '__hash__',\n",
       " '__init__',\n",
       " '__init_subclass__',\n",
       " '__le__',\n",
       " '__lt__',\n",
       " '__module__',\n",
       " '__ne__',\n",
       " '__new__',\n",
       " '__reduce__',\n",
       " '__reduce_ex__',\n",
       " '__repr__',\n",
       " '__setattr__',\n",
       " '__sizeof__',\n",
       " '__str__',\n",
       " '__subclasshook__',\n",
       " '__weakref__',\n",
       " '__x__',\n",
       " '_test__x',\n",
       " '_x',\n",
       " 'x',\n",
       " 'x_']"
      ]
     },
     "execution_count": 14,
     "metadata": {},
     "output_type": "execute_result"
    }
   ],
   "source": [
    "dir(t)"
   ]
  },
  {
   "cell_type": "code",
   "execution_count": null,
   "metadata": {},
   "outputs": [],
   "source": []
  },
  {
   "cell_type": "code",
   "execution_count": null,
   "metadata": {},
   "outputs": [],
   "source": []
  }
 ],
 "metadata": {
  "kernelspec": {
   "display_name": "Python 3.10.5 64-bit",
   "language": "python",
   "name": "python3"
  },
  "language_info": {
   "codemirror_mode": {
    "name": "ipython",
    "version": 3
   },
   "file_extension": ".py",
   "mimetype": "text/x-python",
   "name": "python",
   "nbconvert_exporter": "python",
   "pygments_lexer": "ipython3",
   "version": "3.10.5"
  },
  "orig_nbformat": 4,
  "vscode": {
   "interpreter": {
    "hash": "aee8b7b246df8f9039afb4144a1f6fd8d2ca17a180786b69acc140d282b71a49"
   }
  }
 },
 "nbformat": 4,
 "nbformat_minor": 2
}
