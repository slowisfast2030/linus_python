{
 "cells": [
  {
   "cell_type": "code",
   "execution_count": null,
   "metadata": {},
   "outputs": [],
   "source": [
    "'''\n",
    "Python __str__()  \n",
    "\n",
    "This method returns the string representation of the object.  \n",
    "This method is called when print() or str() function is invoked on an object.  \n",
    "This method must return the String object.  \n",
    "If we don’t implement __str__() function for a class, then built-in object implementation is used that actually calls __repr__() function.\n",
    "\n",
    "Python __repr__()\n",
    "\n",
    "Python __repr__() function returns the object representation in string format. \n",
    "This method is called when repr() function is invoked on the object. \n",
    "If possible, the string returned should be a valid Python expression that can be used to reconstruct the object again.\n",
    "\n",
    "You should always use str() and repr() functions, which will call the underlying __str__ and __repr__ functions.\n",
    "It’s not a good idea to use these functions directly.\n",
    "\n",
    "\n",
    "What’s the difference between __str and __repr__?\n",
    "\n",
    "If both the functions return strings, which is supposed to be the object representation, what’s the difference? \n",
    "Well, the __str__ function is supposed to return a human-readable format, \n",
    "which is good for logging or to display some information about the object. \n",
    "Whereas, the __repr__ function is supposed to return an “official” string representation of the object, \n",
    "which can be used to construct the object again. \n",
    "\n",
    "Summary\n",
    "\n",
    "Both __str__ and __repr__ functions return string representation of the object. \n",
    "The __str__ string representation is supposed to be human-friendly and mostly used for logging purposes, \n",
    "whereas __repr__ representation is supposed to contain information about object so that it can be constructed again. \n",
    "You should never use these functions directly and always use str() and repr() functions.\n",
    "'''"
   ]
  },
  {
   "cell_type": "code",
   "execution_count": 15,
   "metadata": {},
   "outputs": [
    {
     "name": "stdout",
     "output_type": "stream",
     "text": [
      "Person name is Pankaj and age is 34\n",
      "Person name is Pankaj and age is 34\n",
      "Person name is Pankaj and age is 34\n",
      "Person(name=Pankaj, age=34)\n",
      "Person(name=Pankaj, age=34)\n",
      "10\n"
     ]
    }
   ],
   "source": [
    "class Person:\n",
    "\n",
    "    def __init__(self, person_name, person_age):\n",
    "        self.name = person_name\n",
    "        self.age = person_age\n",
    "\n",
    "    def __str__(self):\n",
    "        return f'Person name is {self.name} and age is {self.age}'\n",
    "\n",
    "    def __repr__(self):\n",
    "        return f'Person(name={self.name}, age={self.age})'\n",
    "\n",
    "    def __len__(self):\n",
    "        return 10\n",
    "\n",
    "\n",
    "p = Person('Pankaj', 34)\n",
    "\n",
    "print(p.__str__()) # 调用__str__()函数\n",
    "print(str(p)) # 调用__str__()函数\n",
    "print(p) # 调用__str__()函数\n",
    "\n",
    "print(p.__repr__()) # 调用__repr__()函数\n",
    "print(repr(p)) # 调用__repr__()函数\n",
    "\n",
    "print(len(p)) # 调用__len__()函数\n"
   ]
  },
  {
   "cell_type": "code",
   "execution_count": 7,
   "metadata": {},
   "outputs": [
    {
     "data": {
      "text/plain": [
       "'Person name is Pankaj and age is 34'"
      ]
     },
     "execution_count": 7,
     "metadata": {},
     "output_type": "execute_result"
    }
   ],
   "source": [
    "str(p)"
   ]
  },
  {
   "cell_type": "code",
   "execution_count": 8,
   "metadata": {},
   "outputs": [
    {
     "data": {
      "text/plain": [
       "'Person(name=Pankaj, age=34)'"
      ]
     },
     "execution_count": 8,
     "metadata": {},
     "output_type": "execute_result"
    }
   ],
   "source": [
    "repr(p)"
   ]
  },
  {
   "cell_type": "code",
   "execution_count": null,
   "metadata": {},
   "outputs": [],
   "source": []
  }
 ],
 "metadata": {
  "kernelspec": {
   "display_name": "Python 3.10.5 64-bit",
   "language": "python",
   "name": "python3"
  },
  "language_info": {
   "codemirror_mode": {
    "name": "ipython",
    "version": 3
   },
   "file_extension": ".py",
   "mimetype": "text/x-python",
   "name": "python",
   "nbconvert_exporter": "python",
   "pygments_lexer": "ipython3",
   "version": "3.10.5"
  },
  "orig_nbformat": 4,
  "vscode": {
   "interpreter": {
    "hash": "aee8b7b246df8f9039afb4144a1f6fd8d2ca17a180786b69acc140d282b71a49"
   }
  }
 },
 "nbformat": 4,
 "nbformat_minor": 2
}
